{
  "nbformat": 4,
  "nbformat_minor": 0,
  "metadata": {
    "colab": {
      "name": "Projet_big_data.ipynb",
      "provenance": [],
      "collapsed_sections": [],
      "authorship_tag": "ABX9TyM0yjZlEO6q2hNd3mMoRysT",
      "include_colab_link": true
    },
    "kernelspec": {
      "name": "python3",
      "display_name": "Python 3"
    },
    "language_info": {
      "name": "python"
    }
  },
  "cells": [
    {
      "cell_type": "markdown",
      "metadata": {
        "id": "view-in-github",
        "colab_type": "text"
      },
      "source": [
        "<a href=\"https://colab.research.google.com/github/Erifai/Bigdata_apache_spark/blob/main/Projet_big_data.ipynb\" target=\"_parent\"><img src=\"https://colab.research.google.com/assets/colab-badge.svg\" alt=\"Open In Colab\"/></a>"
      ]
    },
    {
      "cell_type": "markdown",
      "metadata": {
        "id": "RlJ0_eQjVVvZ"
      },
      "source": [
        "# **Projet de big data**"
      ]
    },
    {
      "cell_type": "markdown",
      "metadata": {
        "id": "Ybqj7CCfVhAy"
      },
      "source": [
        "## **Mise en place de l’environnement de travail**"
      ]
    },
    {
      "cell_type": "markdown",
      "metadata": {
        "id": "LlgaGhINmslA"
      },
      "source": [
        "### Installation du scikit-learn & matplotlib"
      ]
    },
    {
      "cell_type": "code",
      "metadata": {
        "id": "rLAxsGUDYg4b"
      },
      "source": [
        "#install scikit-learn\n",
        " #  ! pip install -U scikit-learn\n",
        "\n",
        "#install matplotlib\n",
        " #  ! pip install -U matplotlib"
      ],
      "execution_count": 3,
      "outputs": []
    },
    {
      "cell_type": "markdown",
      "metadata": {
        "id": "ZM4ntRWBa_pU"
      },
      "source": [
        "### installation du spark\n"
      ]
    },
    {
      "cell_type": "markdown",
      "metadata": {
        "id": "ZDRqP_fWh_US"
      },
      "source": [
        "Pour exécuter spark dans Colab, nous devons d'abord installer toutes les dépendances dans l'environnement Colab, c'est-à-dire Apache Spark 3.1.1 avec hadoop 2.7, Java 8 et Findspark pour localiser spark dans le système."
      ]
    },
    {
      "cell_type": "code",
      "metadata": {
        "id": "fAOUjCUWa5hB"
      },
      "source": [
        "!apt-get install openjdk-8-jdk-headless -qq > /dev/null"
      ],
      "execution_count": 4,
      "outputs": []
    },
    {
      "cell_type": "code",
      "metadata": {
        "id": "IwPUU8fVbNtl"
      },
      "source": [
        "!wget -q https://downloads.apache.org/spark/spark-3.1.1/spark-3.1.1-bin-hadoop2.7.tgz\n"
      ],
      "execution_count": 5,
      "outputs": []
    },
    {
      "cell_type": "code",
      "metadata": {
        "id": "JbR9CdZqbRlY"
      },
      "source": [
        "!tar xf spark-3.1.1-bin-hadoop2.7.tgz\n"
      ],
      "execution_count": 6,
      "outputs": []
    },
    {
      "cell_type": "code",
      "metadata": {
        "id": "gTm3OovjbVth"
      },
      "source": [
        "!pip install -q findspark"
      ],
      "execution_count": 7,
      "outputs": []
    },
    {
      "cell_type": "markdown",
      "metadata": {
        "id": "2vHQjc1YiSxq"
      },
      "source": [
        "Maintenant que nous avons installé Spark et Java dans Colab, il est temps de définir le chemin d'environnement qui vnous permet d'exécuter Pyspark dans notre environnement Colab."
      ]
    },
    {
      "cell_type": "code",
      "metadata": {
        "id": "ClDAANv6bZZZ"
      },
      "source": [
        "import os\n",
        "os.environ[\"JAVA_HOME\"] = \"/usr/lib/jvm/java-8-openjdk-amd64\"\n",
        "os.environ[\"SPARK_HOME\"] = \"/content/spark-3.1.1-bin-hadoop2.7\""
      ],
      "execution_count": 8,
      "outputs": []
    },
    {
      "cell_type": "code",
      "metadata": {
        "colab": {
          "base_uri": "https://localhost:8080/",
          "height": 35
        },
        "id": "5GRF6bFvbifI",
        "outputId": "67845f36-6900-4968-c8de-d434524f8799"
      },
      "source": [
        "#verfication du type\n",
        "os.environ[\"SPARK_HOME\"]"
      ],
      "execution_count": 9,
      "outputs": [
        {
          "output_type": "execute_result",
          "data": {
            "application/vnd.google.colaboratory.intrinsic+json": {
              "type": "string"
            },
            "text/plain": [
              "'/content/spark-3.1.1-bin-hadoop2.7'"
            ]
          },
          "metadata": {
            "tags": []
          },
          "execution_count": 9
        }
      ]
    },
    {
      "cell_type": "markdown",
      "metadata": {
        "id": "TJmouCSTnCiy"
      },
      "source": [
        "### Creation de Sparkcontext & Sparksession"
      ]
    },
    {
      "cell_type": "code",
      "metadata": {
        "id": "-1gSHe_xnSVG"
      },
      "source": [
        "#SparkContext\n",
        "#We need to locate Spark in the system. For that, we import findspark and use the findspark.init() method.\n",
        "import findspark\n",
        "findspark.init()\n",
        "from pyspark import SparkContext\n",
        "sc = SparkContext(\"local\", \"spark_app\")"
      ],
      "execution_count": 10,
      "outputs": []
    },
    {
      "cell_type": "code",
      "metadata": {
        "id": "yr7e9K43nhTU"
      },
      "source": [
        "#SparkSession\n",
        "from pyspark.sql import SparkSession\n",
        "spark = SparkSession.builder\\\n",
        "        .master(\"local\")\\\n",
        "        .appName(\"my_app\")\\\n",
        "        .config('spark.ui.port', '4050')\\\n",
        "        .getOrCreate()"
      ],
      "execution_count": 11,
      "outputs": []
    }
  ]
}